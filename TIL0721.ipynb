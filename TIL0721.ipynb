{
 "cells": [
  {
   "cell_type": "markdown",
   "id": "9fe77d8a",
   "metadata": {},
   "source": [
    "# 0721 Today I learned:\n",
    "\n",
    "\n",
    "### interpreter vs compiler\n",
    "- 컴파일러 : 전체 코드를 번역한 후 한 줄 씩 실행\n",
    "  - 장점 : 실행이 빠르다\n",
    "- 인터프리터 : 코드를 한 줄 씩 번역하며 실행\n",
    "  - 장점 : 디버깅이 편하다(개발과 테스트가 빠름)\n",
    "\n",
    "\n",
    "\n",
    "### 입출력 방식\n",
    "- input() : 항상 문자열로 입력\n"
   ]
  },
  {
   "cell_type": "code",
   "execution_count": 4,
   "id": "3a5ad20a",
   "metadata": {},
   "outputs": [
    {
     "name": "stdout",
     "output_type": "stream",
     "text": [
      "number : 0\n",
      "5\n"
     ]
    }
   ],
   "source": [
    "num = input()\n",
    "int_number = int(num)\n",
    "print(f\"number : {num}\")\n",
    "print(int_number + 5)"
   ]
  },
  {
   "cell_type": "markdown",
   "id": "612dbafd",
   "metadata": {},
   "source": [
    "- 공백을 포함한 문자열은 공백을 포함한 상태 그대로 입력된다"
   ]
  },
  {
   "cell_type": "code",
   "execution_count": 7,
   "id": "1c0ff014",
   "metadata": {},
   "outputs": [
    {
     "name": "stdout",
     "output_type": "stream",
     "text": [
      "['안', '녕']\n",
      "안\n",
      "녕\n"
     ]
    }
   ],
   "source": [
    "word = input().split()\n",
    "print(word)\n",
    "print(word[0])\n",
    "print(word[1])"
   ]
  },
  {
   "cell_type": "markdown",
   "id": "1c59dc1c",
   "metadata": {},
   "source": [
    "- 문자열로 입력된 것을 int로 받되, int함수를 여러 요소에 적용하려면?"
   ]
  },
  {
   "cell_type": "code",
   "execution_count": 8,
   "id": "65660c65",
   "metadata": {},
   "outputs": [
    {
     "name": "stdout",
     "output_type": "stream",
     "text": [
      "[1, 2, 3, 4, 5]\n"
     ]
    }
   ],
   "source": [
    "numbers = list(map(int, input().split()))\n",
    "print(numbers)"
   ]
  },
  {
   "cell_type": "markdown",
   "id": "4707030f",
   "metadata": {},
   "source": [
    "- markdown에서 코드 입력하기 : 코드의 앞 뒤에 ```\n",
    "```\n",
    "print(\"Hello World!\")\n",
    "```\n"
   ]
  }
 ],
 "metadata": {
  "kernelspec": {
   "display_name": "Python 3",
   "language": "python",
   "name": "python3"
  },
  "language_info": {
   "codemirror_mode": {
    "name": "ipython",
    "version": 3
   },
   "file_extension": ".py",
   "mimetype": "text/x-python",
   "name": "python",
   "nbconvert_exporter": "python",
   "pygments_lexer": "ipython3",
   "version": "3.11.9"
  }
 },
 "nbformat": 4,
 "nbformat_minor": 5
}
