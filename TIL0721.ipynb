{
 "cells": [
  {
   "cell_type": "markdown",
   "id": "9fe77d8a",
   "metadata": {},
   "source": [
    "# 0721 Today I learned:\n",
    "\n",
    "\n",
    "### interpreter vs compiler\n",
    "- 컴파일러 : 전체 코드를 번역한 후 한 줄 씩 실행\n",
    "  - 장점 : 실행이 빠르다\n",
    "- 인터프리터 : 코드를 한 줄 씩 번역하며 실행\n",
    "  - 장점 : 디버깅이 편하다(개발과 테스트가 빠름)\n",
    "\n",
    "\n",
    "\n",
    "### 입출력 방식\n",
    "- input() : 항상 문자열로 입력\n"
   ]
  },
  {
   "cell_type": "code",
   "execution_count": null,
   "id": "3a5ad20a",
   "metadata": {
    "vscode": {
     "languageId": "plaintext"
    }
   },
   "outputs": [],
   "source": [
    "num = int(input())\n",
    "print(f\"number : {num}\")"
   ]
  }
 ],
 "metadata": {
  "language_info": {
   "name": "python"
  }
 },
 "nbformat": 4,
 "nbformat_minor": 5
}
