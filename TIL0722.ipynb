{
  "nbformat": 4,
  "nbformat_minor": 0,
  "metadata": {
    "colab": {
      "provenance": []
    },
    "kernelspec": {
      "name": "python3",
      "display_name": "Python 3"
    },
    "language_info": {
      "name": "python"
    }
  },
  "cells": [
    {
      "cell_type": "code",
      "execution_count": 2,
      "metadata": {
        "colab": {
          "base_uri": "https://localhost:8080/"
        },
        "id": "ss-8-kno1zq3",
        "outputId": "86394c7d-5a07-431e-e8f1-962d53dc8090"
      },
      "outputs": [
        {
          "output_type": "stream",
          "name": "stdout",
          "text": [
            "False\n",
            "False\n",
            "True\n"
          ]
        }
      ],
      "source": [
        "print(True and False)\n",
        "print(not True)\n",
        "print(not 0)"
      ]
    },
    {
      "cell_type": "markdown",
      "source": [
        "### 파이썬의 참과 거짓\n",
        "- 파이썬이 거짓으로 취급하는 값들\n",
        " - False, 숫자 0 , 빈 문자열'', 빈 리스트[], None 등 비어있거나 없는 값\n",
        "- 파이썬이 참으로 취급하는 값들\n",
        " - True, '거짓'이 아닌 모든 값\n",
        " - 1, -10, [12]등 내용이 있는 값"
      ],
      "metadata": {
        "id": "8jTgD2Ce2zaa"
      }
    },
    {
      "cell_type": "markdown",
      "source": [
        "### 단축 평가\n",
        "- and : 하나라도 거짓이면 거짓\n",
        " - 왼쪽에서 오른쪽으로 진행하다가 처음 만나는 거짓 반환\n",
        " - 끝까지 갔는데 모든 값이 참이면 맨 마지막 '참'값을 반환\n",
        "- or : 하나라도 참이면 참\n",
        " - 왼쪽에서 오른쪽으로 진행하다가 처음 만나는 참 반환\n",
        " - 끝까지 갔는데 하나라도 참이 있으면 맨 마지막 참값을 반환"
      ],
      "metadata": {
        "id": "dTNkWC1V3Toi"
      }
    },
    {
      "cell_type": "markdown",
      "source": [
        "### 딕셔너리\n",
        "- 리스트로 저장할 수 있는 모든 데이터는 딕셔너리로 표현할 수 있다\n",
        "- 리스트 : 순서가 있으면 더 좋을 때\n",
        "- 딕셔너리 : 순서가 없고 key를 이용한 조회가 더 많을때"
      ],
      "metadata": {
        "id": "enzNlg91_bRp"
      }
    },
    {
      "cell_type": "code",
      "source": [
        "di = {} #딕셔너리 선언\n",
        "person = {\"name\" : \"김민준\",\n",
        "          (1,2) : \"학생\"} #key 값으로 리스트는 불가능 튜플은 가능\n",
        "\n",
        "di['나이'] = 33 #딕셔너리에 키, 밸류 추가\n",
        "print(di)\n",
        "di['나이'] = 22 #이미 있는 키에 대해 밸류 변경\n",
        "print(di)\n",
        "\n",
        "print(di['나이']) #특정 key값의 value 조회\n",
        "\n",
        "key = '나이'\n",
        "print(di[key]) #키값에 변수를 넣어도 됨\n",
        "\n",
        "#키 값이 있는지 먼저 확인하고 있으면 value 없으면 None 출력\n",
        "print(di.get(key))\n",
        "print(di.get('없는 키'))\n",
        "\n",
        "print(di['없는 키값'])  #얘는 오류내서 실행을 안 함."
      ],
      "metadata": {
        "colab": {
          "base_uri": "https://localhost:8080/",
          "height": 304
        },
        "id": "50D9U9Jt__nL",
        "outputId": "059838ec-fa98-47fa-a907-cbf6b6fe00d1"
      },
      "execution_count": 22,
      "outputs": [
        {
          "output_type": "stream",
          "name": "stdout",
          "text": [
            "{'나이': 33}\n",
            "{'나이': 22}\n",
            "22\n",
            "22\n",
            "22\n",
            "None\n"
          ]
        },
        {
          "output_type": "error",
          "ename": "KeyError",
          "evalue": "'없는 키값'",
          "traceback": [
            "\u001b[0;31m---------------------------------------------------------------------------\u001b[0m",
            "\u001b[0;31mKeyError\u001b[0m                                  Traceback (most recent call last)",
            "\u001b[0;32m/tmp/ipython-input-22-417908252.py\u001b[0m in \u001b[0;36m<cell line: 0>\u001b[0;34m()\u001b[0m\n\u001b[1;32m     17\u001b[0m \u001b[0mprint\u001b[0m\u001b[0;34m(\u001b[0m\u001b[0mdi\u001b[0m\u001b[0;34m.\u001b[0m\u001b[0mget\u001b[0m\u001b[0;34m(\u001b[0m\u001b[0;34m'없는 키'\u001b[0m\u001b[0;34m)\u001b[0m\u001b[0;34m)\u001b[0m\u001b[0;34m\u001b[0m\u001b[0;34m\u001b[0m\u001b[0m\n\u001b[1;32m     18\u001b[0m \u001b[0;34m\u001b[0m\u001b[0m\n\u001b[0;32m---> 19\u001b[0;31m \u001b[0mprint\u001b[0m\u001b[0;34m(\u001b[0m\u001b[0mdi\u001b[0m\u001b[0;34m[\u001b[0m\u001b[0;34m'없는 키값'\u001b[0m\u001b[0;34m]\u001b[0m\u001b[0;34m)\u001b[0m\u001b[0;34m\u001b[0m\u001b[0;34m\u001b[0m\u001b[0m\n\u001b[0m",
            "\u001b[0;31mKeyError\u001b[0m: '없는 키값'"
          ]
        }
      ]
    },
    {
      "cell_type": "markdown",
      "source": [
        "### 리스트"
      ],
      "metadata": {
        "id": "4w3fXt-GEgkd"
      }
    },
    {
      "cell_type": "code",
      "source": [
        "numbers = []\n",
        "numbers.append(3)\n",
        "numbers.append(1)\n",
        "numbers.append(5)\n",
        "numbers.append(2)\n",
        "numbers.append(4)\n",
        "\n",
        "print(numbers)\n",
        "\n",
        "print(numbers[0], numbers[-1])\n",
        "\n",
        "print(numbers[1::2])  #1번인덱스 부터 2칸씩 출력."
      ],
      "metadata": {
        "colab": {
          "base_uri": "https://localhost:8080/"
        },
        "id": "MnY2hmSWAAQp",
        "outputId": "ab382b88-5d25-4607-a31d-73cb9f07598b"
      },
      "execution_count": 34,
      "outputs": [
        {
          "output_type": "stream",
          "name": "stdout",
          "text": [
            "[3, 1, 5, 2, 4]\n",
            "3 4\n",
            "[1, 2]\n"
          ]
        }
      ]
    },
    {
      "cell_type": "markdown",
      "source": [
        "## 참조 복사, 깊은 복사, 얕은 복사"
      ],
      "metadata": {
        "id": "c8GzhK8BgdcC"
      }
    },
    {
      "cell_type": "code",
      "source": [
        "a = [1,2,3]\n",
        "b=a #참조 복사(메모리 복사) 같은 개체를 가리킨다.\n",
        "b[0]=10\n",
        "\n",
        "print(f'a = {a}')\n",
        "print(f'b = {b}')\n",
        "print(a is b)"
      ],
      "metadata": {
        "colab": {
          "base_uri": "https://localhost:8080/"
        },
        "id": "Bs0W5yK7bpAk",
        "outputId": "9be9009b-05d2-41e9-9d42-9e0d7d92d705"
      },
      "execution_count": 36,
      "outputs": [
        {
          "output_type": "stream",
          "name": "stdout",
          "text": [
            "a = [10, 2, 3]\n",
            "b = [10, 2, 3]\n",
            "True\n"
          ]
        }
      ]
    },
    {
      "cell_type": "code",
      "source": [
        "import copy\n",
        "a = [[1,2], [3,4]]\n",
        "b = copy.deepcopy(a)    #깊은 복사: 새로운 객체 생성\n",
        "b[0][0] = 10\n",
        "print(a)\n",
        "print(b)\n",
        "print(id(a))\n",
        "print(id(b))"
      ],
      "metadata": {
        "colab": {
          "base_uri": "https://localhost:8080/"
        },
        "id": "O1GGwTNJfuVd",
        "outputId": "3d60ab72-c42a-4f6f-8a2b-1fa130dd8b30"
      },
      "execution_count": 37,
      "outputs": [
        {
          "output_type": "stream",
          "name": "stdout",
          "text": [
            "[[1, 2], [3, 4]]\n",
            "[[10, 2], [3, 4]]\n",
            "132690941533056\n",
            "132690941257024\n"
          ]
        }
      ]
    },
    {
      "cell_type": "code",
      "source": [
        "c = [[1,2,3], [4,5,6]]\n",
        "d = c.copy() #얕은 복사\n",
        "\n",
        "c[0][0] = 100\n",
        "print(c)\n",
        "print(d)\n",
        "print(id(c[0]), id(d[0]))\n"
      ],
      "metadata": {
        "colab": {
          "base_uri": "https://localhost:8080/"
        },
        "id": "4jYdSebXf0r8",
        "outputId": "41f6923a-a186-4d56-dc41-ca615f0421e8"
      },
      "execution_count": 45,
      "outputs": [
        {
          "output_type": "stream",
          "name": "stdout",
          "text": [
            "[[100, 2, 3], [4, 5, 6]]\n",
            "[[100, 2, 3], [4, 5, 6]]\n",
            "132690948550272 132690948550272\n"
          ]
        }
      ]
    },
    {
      "cell_type": "code",
      "source": [],
      "metadata": {
        "id": "gxw_kn3AoAeV"
      },
      "execution_count": null,
      "outputs": []
    }
  ]
}